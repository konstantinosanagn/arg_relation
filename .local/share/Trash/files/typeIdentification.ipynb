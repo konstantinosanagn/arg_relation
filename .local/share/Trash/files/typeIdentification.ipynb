{
 "cells": [
  {
   "cell_type": "code",
   "execution_count": 17,
   "id": "83dee818-8164-4241-a4ed-8cb27e61d1de",
   "metadata": {
    "tags": []
   },
   "outputs": [
    {
     "name": "stderr",
     "output_type": "stream",
     "text": [
      "\u001b[1m\u001b[31mERROR: \u001b[0mThe function received no value for the required argument: ckpt_dir\n",
      "Usage: ipykernel_launcher.py CKPT_DIR TOKENIZER_PATH VALIDATION_SET <flags>\n",
      "  optional flags:        --temperature | --top_p | --max_seq_len |\n",
      "                         --max_gen_len | --max_batch_size\n",
      "\n",
      "For detailed information on this command, run:\n",
      "  ipykernel_launcher.py --help\n"
     ]
    },
    {
     "ename": "FireExit",
     "evalue": "2",
     "output_type": "error",
     "traceback": [
      "An exception has occurred, use %tb to see the full traceback.\n",
      "\u001b[0;31mFireExit\u001b[0m\u001b[0;31m:\u001b[0m 2\n"
     ]
    },
    {
     "name": "stderr",
     "output_type": "stream",
     "text": [
      "/home/ka9vt/miniconda3/envs/link_prediction/lib/python3.11/site-packages/IPython/core/interactiveshell.py:3534: UserWarning: To exit: use 'exit', 'quit', or Ctrl-D.\n",
      "  warn(\"To exit: use 'exit', 'quit', or Ctrl-D.\", stacklevel=1)\n"
     ]
    }
   ],
   "source": [
    "# Script to run the model\n",
    "\n",
    "import fire\n",
    "\n",
    "from llama import Llama\n",
    "from typing import List\n",
    "\n",
    "def main(\n",
    "    ckpt_dir: str,\n",
    "    tokenizer_path: str,\n",
    "    validation_set: List[dict],\n",
    "    temperature: float = 0.6,\n",
    "    top_p: float = 0.9,\n",
    "    max_seq_len: int = 128,\n",
    "    max_gen_len: int = 64,\n",
    "    max_batch_size: int = 4\n",
    "):\n",
    "    \"\"\"\n",
    "    Entry point of the program for generating text using a pretrained model.\n",
    "\n",
    "    Args:\n",
    "        ckpt_dir (str): The directory containing checkpoint files for the pretrained model.\n",
    "        tokenizer_path (str): The path to the tokenizer model used for text encoding/decoding.\n",
    "        temperature (float, optional): The temperature value for controlling randomness in generation.\n",
    "            Defaults to 0.6.\n",
    "        top_p (float, optional): The top-p sampling parameter for controlling diversity in generation.\n",
    "            Defaults to 0.9.\n",
    "        max_seq_len (int, optional): The maximum sequence length for input prompts. Defaults to 128.\n",
    "        max_gen_len (int, optional): The maximum length of generated sequences. Defaults to 64.\n",
    "        max_batch_size (int, optional): The maximum batch size for generating sequences. Defaults to 4.\n",
    "        validation_set (List[dict]): The validation set containing propositions.\n",
    "    \"\"\"\n",
    "    generator = Llama.build(\n",
    "        ckpt_dir=ckpt_dir,\n",
    "        tokenizer_path=tokenizer_path,\n",
    "        max_seq_len=max_seq_len,\n",
    "        max_batch_size=max_batch_size,\n",
    "    )\n",
    "    \n",
    "    results = []\n",
    "    \n",
    "    for comment in validation_set:\n",
    "        propositions = comment['propositions']\n",
    "        for prop in propositions:\n",
    "            prop_text = prop['text']\n",
    "            prompt = f'Predict the type of proposition: \"{prop_text}\"\\n'\n",
    "            result = generator.text_completion(\n",
    "                [prompt],\n",
    "                max_gen_len=max_gen_len,\n",
    "                temperature=temperature,\n",
    "                top_p=top_p,\n",
    "            )\n",
    "            predicted_type = result[0]['generation'].strip()\n",
    "            results.append(predicted_type)\n",
    "\n",
    "        return results\n",
    "\n",
    "if __name__ == \"__main__\":\n",
    "    fire.Fire(main)\n",
    "        \n",
    "        "
   ]
  },
  {
   "cell_type": "code",
   "execution_count": 18,
   "id": "a45b0844-13b6-43a8-b33d-6836599b3530",
   "metadata": {},
   "outputs": [],
   "source": [
    "# Format the dataset so that the json file is readable\n",
    "\n",
    "import json\n",
    "import random\n",
    "\n",
    "def pprint_comment(comment):\n",
    "    # Format the propositions\n",
    "    propositions = []\n",
    "    for prop in comment['propositions']:\n",
    "        prop_info = {\n",
    "            \"id\": prop['id'],\n",
    "            \"text\": prop['text'],\n",
    "            \"type\": prop['type'],\n",
    "            \"reasons\": prop['reasons'],\n",
    "            \"evidence\": prop['evidence']\n",
    "        }\n",
    "        propositions.append(prop_info)\n",
    "    \n",
    "    formatted_comment = {\n",
    "        \"commentID\": comment['commentID'],\n",
    "        \"propositions\": propositions\n",
    "    }\n",
    "    return formatted_comment    \n"
   ]
  },
  {
   "cell_type": "code",
   "execution_count": 19,
   "id": "7cb8ba03-5e37-4440-8e4c-bab31745286c",
   "metadata": {},
   "outputs": [],
   "source": [
    "# Create a validation set\n",
    "\n",
    "formatted_comments = []\n",
    "\n",
    "# Open the JSON list file\n",
    "with open('cdcp_type_edge_annot.jsonlist', 'r') as file:\n",
    "    for line in file:\n",
    "        comment = json.loads(line)\n",
    "        formatted_comment = pprint_comment(comment)\n",
    "        formatted_comments.append(formatted_comment)\n",
    "#         print(json.dumps(formatted_comment, indent=4))\n",
    "\n",
    "# Select about 100 comments randomly for the validation set\n",
    "validation_set = random.sample(formatted_comments, k=100)\n",
    "\n",
    "# # Print the selected comments\n",
    "# for comment in validation_set:\n",
    "#     print(json.dumps(comment, indent=4))"
   ]
  },
  {
   "cell_type": "code",
   "execution_count": 20,
   "id": "6dbe6b7d-ca8b-46b1-a9f6-0b7ea582bcf8",
   "metadata": {},
   "outputs": [
    {
     "data": {
      "text/plain": [
       "{'commentID': 524,\n",
       " 'propositions': [{'id': 0,\n",
       "   'text': 'I think that both an English and Spanish letter should be sent.',\n",
       "   'type': 'policy',\n",
       "   'reasons': ['1'],\n",
       "   'evidence': None},\n",
       "  {'id': 1,\n",
       "   'text': 'This already happens with most legal and other important things (like voting and letters from school) in my State.',\n",
       "   'type': 'fact',\n",
       "   'reasons': None,\n",
       "   'evidence': None},\n",
       "  {'id': 2,\n",
       "   'text': 'But this should be a fed requirement to always include Spanish.',\n",
       "   'type': 'policy',\n",
       "   'reasons': None,\n",
       "   'evidence': None}]}"
      ]
     },
     "execution_count": 20,
     "metadata": {},
     "output_type": "execute_result"
    }
   ],
   "source": [
    "validation_set[0]"
   ]
  },
  {
   "cell_type": "code",
   "execution_count": 21,
   "id": "b75867b1-72a1-49a6-acd6-66123afc9c09",
   "metadata": {},
   "outputs": [],
   "source": [
    "# Create a dataframe to keep track of commentId, propositionId, actualType, predictedType\n",
    "\n",
    "import pandas as pd\n",
    "\n",
    "# A list of records in the format [comment_id, prop_id, actual_type]\n",
    "records = []\n",
    "\n",
    "for comment in validation_set:\n",
    "    comment_id = comment['commentID']\n",
    "    propositions = comment['propositions']\n",
    "    for prop in propositions:\n",
    "        prop_id = prop['id']\n",
    "        actual_type = prop['type']\n",
    "        records.append([comment_id, prop_id, actual_type])\n",
    "\n",
    "df = pd.DataFrame(records, columns=['commentID', 'propositionID', 'actualType'])\n"
   ]
  },
  {
   "cell_type": "code",
   "execution_count": 22,
   "id": "bd7debd7-1cb9-4948-a8d4-0007921d3f8d",
   "metadata": {},
   "outputs": [
    {
     "ename": "ValueError",
     "evalue": "Error initializing torch.distributed using env:// rendezvous: environment variable RANK expected, but not set",
     "output_type": "error",
     "traceback": [
      "\u001b[0;31m---------------------------------------------------------------------------\u001b[0m",
      "\u001b[0;31mValueError\u001b[0m                                Traceback (most recent call last)",
      "Cell \u001b[0;32mIn[22], line 2\u001b[0m\n\u001b[1;32m      1\u001b[0m \u001b[38;5;66;03m# List of predicted types\u001b[39;00m\n\u001b[0;32m----> 2\u001b[0m predicted_types \u001b[38;5;241m=\u001b[39m main(\u001b[38;5;124m'\u001b[39m\u001b[38;5;124m/home/parklab/models/llama2/llama-2-70b-chat\u001b[39m\u001b[38;5;124m'\u001b[39m, \u001b[38;5;124m'\u001b[39m\u001b[38;5;124m/home/parklab/models/llama2/tokenizer.model\u001b[39m\u001b[38;5;124m'\u001b[39m, validation_set\u001b[38;5;241m=\u001b[39mvalidation_set)\n\u001b[1;32m      4\u001b[0m \u001b[38;5;66;03m# Add the predicted types to the DataFrame\u001b[39;00m\n\u001b[1;32m      5\u001b[0m df[\u001b[38;5;124m'\u001b[39m\u001b[38;5;124mpredictedType\u001b[39m\u001b[38;5;124m'\u001b[39m] \u001b[38;5;241m=\u001b[39m predicted_types\n",
      "Cell \u001b[0;32mIn[17], line 33\u001b[0m, in \u001b[0;36mmain\u001b[0;34m(ckpt_dir, tokenizer_path, validation_set, temperature, top_p, max_seq_len, max_gen_len, max_batch_size)\u001b[0m\n\u001b[1;32m      8\u001b[0m \u001b[38;5;28;01mdef\u001b[39;00m \u001b[38;5;21mmain\u001b[39m(\n\u001b[1;32m      9\u001b[0m     ckpt_dir: \u001b[38;5;28mstr\u001b[39m,\n\u001b[1;32m     10\u001b[0m     tokenizer_path: \u001b[38;5;28mstr\u001b[39m,\n\u001b[0;32m   (...)\u001b[0m\n\u001b[1;32m     16\u001b[0m     max_batch_size: \u001b[38;5;28mint\u001b[39m \u001b[38;5;241m=\u001b[39m \u001b[38;5;241m4\u001b[39m\n\u001b[1;32m     17\u001b[0m ):\n\u001b[1;32m     18\u001b[0m \u001b[38;5;250m    \u001b[39m\u001b[38;5;124;03m\"\"\"\u001b[39;00m\n\u001b[1;32m     19\u001b[0m \u001b[38;5;124;03m    Entry point of the program for generating text using a pretrained model.\u001b[39;00m\n\u001b[1;32m     20\u001b[0m \n\u001b[0;32m   (...)\u001b[0m\n\u001b[1;32m     31\u001b[0m \u001b[38;5;124;03m        validation_set (List[dict]): The validation set containing propositions.\u001b[39;00m\n\u001b[1;32m     32\u001b[0m \u001b[38;5;124;03m    \"\"\"\u001b[39;00m\n\u001b[0;32m---> 33\u001b[0m     generator \u001b[38;5;241m=\u001b[39m Llama\u001b[38;5;241m.\u001b[39mbuild(\n\u001b[1;32m     34\u001b[0m         ckpt_dir\u001b[38;5;241m=\u001b[39mckpt_dir,\n\u001b[1;32m     35\u001b[0m         tokenizer_path\u001b[38;5;241m=\u001b[39mtokenizer_path,\n\u001b[1;32m     36\u001b[0m         max_seq_len\u001b[38;5;241m=\u001b[39mmax_seq_len,\n\u001b[1;32m     37\u001b[0m         max_batch_size\u001b[38;5;241m=\u001b[39mmax_batch_size,\n\u001b[1;32m     38\u001b[0m     )\n\u001b[1;32m     40\u001b[0m     results \u001b[38;5;241m=\u001b[39m []\n\u001b[1;32m     42\u001b[0m     \u001b[38;5;28;01mfor\u001b[39;00m comment \u001b[38;5;129;01min\u001b[39;00m validation_set:\n",
      "File \u001b[0;32m~/Projects/link-prediction/llama/llama/generation.py:85\u001b[0m, in \u001b[0;36mLlama.build\u001b[0;34m(ckpt_dir, tokenizer_path, max_seq_len, max_batch_size, model_parallel_size, seed)\u001b[0m\n\u001b[1;32m     61\u001b[0m \u001b[38;5;250m\u001b[39m\u001b[38;5;124;03m\"\"\"\u001b[39;00m\n\u001b[1;32m     62\u001b[0m \u001b[38;5;124;03mBuild a Llama instance by initializing and loading a pre-trained model.\u001b[39;00m\n\u001b[1;32m     63\u001b[0m \n\u001b[0;32m   (...)\u001b[0m\n\u001b[1;32m     82\u001b[0m \n\u001b[1;32m     83\u001b[0m \u001b[38;5;124;03m\"\"\"\u001b[39;00m\n\u001b[1;32m     84\u001b[0m \u001b[38;5;28;01mif\u001b[39;00m \u001b[38;5;129;01mnot\u001b[39;00m torch\u001b[38;5;241m.\u001b[39mdistributed\u001b[38;5;241m.\u001b[39mis_initialized():\n\u001b[0;32m---> 85\u001b[0m     torch\u001b[38;5;241m.\u001b[39mdistributed\u001b[38;5;241m.\u001b[39minit_process_group(\u001b[38;5;124m\"\u001b[39m\u001b[38;5;124mnccl\u001b[39m\u001b[38;5;124m\"\u001b[39m)\n\u001b[1;32m     86\u001b[0m \u001b[38;5;28;01mif\u001b[39;00m \u001b[38;5;129;01mnot\u001b[39;00m model_parallel_is_initialized():\n\u001b[1;32m     87\u001b[0m     \u001b[38;5;28;01mif\u001b[39;00m model_parallel_size \u001b[38;5;129;01mis\u001b[39;00m \u001b[38;5;28;01mNone\u001b[39;00m:\n",
      "File \u001b[0;32m~/miniconda3/envs/link_prediction/lib/python3.11/site-packages/torch/distributed/c10d_logger.py:74\u001b[0m, in \u001b[0;36m_time_logger.<locals>.wrapper\u001b[0;34m(*args, **kwargs)\u001b[0m\n\u001b[1;32m     71\u001b[0m \u001b[38;5;129m@functools\u001b[39m\u001b[38;5;241m.\u001b[39mwraps(func)\n\u001b[1;32m     72\u001b[0m \u001b[38;5;28;01mdef\u001b[39;00m \u001b[38;5;21mwrapper\u001b[39m(\u001b[38;5;241m*\u001b[39margs, \u001b[38;5;241m*\u001b[39m\u001b[38;5;241m*\u001b[39mkwargs):\n\u001b[1;32m     73\u001b[0m     t1 \u001b[38;5;241m=\u001b[39m time\u001b[38;5;241m.\u001b[39mtime_ns()\n\u001b[0;32m---> 74\u001b[0m     func_return \u001b[38;5;241m=\u001b[39m func(\u001b[38;5;241m*\u001b[39margs, \u001b[38;5;241m*\u001b[39m\u001b[38;5;241m*\u001b[39mkwargs)\n\u001b[1;32m     75\u001b[0m     t2 \u001b[38;5;241m=\u001b[39m time\u001b[38;5;241m.\u001b[39mtime_ns()\n\u001b[1;32m     77\u001b[0m     \u001b[38;5;28;01mif\u001b[39;00m dist\u001b[38;5;241m.\u001b[39mis_initialized():\n",
      "File \u001b[0;32m~/miniconda3/envs/link_prediction/lib/python3.11/site-packages/torch/distributed/distributed_c10d.py:1141\u001b[0m, in \u001b[0;36minit_process_group\u001b[0;34m(backend, init_method, timeout, world_size, rank, store, group_name, pg_options)\u001b[0m\n\u001b[1;32m   1137\u001b[0m \u001b[38;5;28;01mif\u001b[39;00m store \u001b[38;5;129;01mis\u001b[39;00m \u001b[38;5;28;01mNone\u001b[39;00m:\n\u001b[1;32m   1138\u001b[0m     rendezvous_iterator \u001b[38;5;241m=\u001b[39m rendezvous(\n\u001b[1;32m   1139\u001b[0m         init_method, rank, world_size, timeout\u001b[38;5;241m=\u001b[39mtimeout\n\u001b[1;32m   1140\u001b[0m     )\n\u001b[0;32m-> 1141\u001b[0m     store, rank, world_size \u001b[38;5;241m=\u001b[39m \u001b[38;5;28mnext\u001b[39m(rendezvous_iterator)\n\u001b[1;32m   1142\u001b[0m     store\u001b[38;5;241m.\u001b[39mset_timeout(timeout)\n\u001b[1;32m   1144\u001b[0m     \u001b[38;5;66;03m# Use a PrefixStore to avoid accidental overrides of keys used by\u001b[39;00m\n\u001b[1;32m   1145\u001b[0m     \u001b[38;5;66;03m# different systems (e.g. RPC) in case the store is multi-tenant.\u001b[39;00m\n",
      "File \u001b[0;32m~/miniconda3/envs/link_prediction/lib/python3.11/site-packages/torch/distributed/rendezvous.py:231\u001b[0m, in \u001b[0;36m_env_rendezvous_handler\u001b[0;34m(url, timeout, **kwargs)\u001b[0m\n\u001b[1;32m    229\u001b[0m     rank \u001b[38;5;241m=\u001b[39m \u001b[38;5;28mint\u001b[39m(query_dict[\u001b[38;5;124m\"\u001b[39m\u001b[38;5;124mrank\u001b[39m\u001b[38;5;124m\"\u001b[39m])\n\u001b[1;32m    230\u001b[0m \u001b[38;5;28;01melse\u001b[39;00m:\n\u001b[0;32m--> 231\u001b[0m     rank \u001b[38;5;241m=\u001b[39m \u001b[38;5;28mint\u001b[39m(_get_env_or_raise(\u001b[38;5;124m\"\u001b[39m\u001b[38;5;124mRANK\u001b[39m\u001b[38;5;124m\"\u001b[39m))\n\u001b[1;32m    233\u001b[0m \u001b[38;5;28;01mif\u001b[39;00m \u001b[38;5;124m\"\u001b[39m\u001b[38;5;124mworld_size\u001b[39m\u001b[38;5;124m\"\u001b[39m \u001b[38;5;129;01min\u001b[39;00m query_dict:\n\u001b[1;32m    234\u001b[0m     world_size \u001b[38;5;241m=\u001b[39m \u001b[38;5;28mint\u001b[39m(query_dict[\u001b[38;5;124m\"\u001b[39m\u001b[38;5;124mworld_size\u001b[39m\u001b[38;5;124m\"\u001b[39m])\n",
      "File \u001b[0;32m~/miniconda3/envs/link_prediction/lib/python3.11/site-packages/torch/distributed/rendezvous.py:216\u001b[0m, in \u001b[0;36m_env_rendezvous_handler.<locals>._get_env_or_raise\u001b[0;34m(env_var)\u001b[0m\n\u001b[1;32m    214\u001b[0m env_val \u001b[38;5;241m=\u001b[39m os\u001b[38;5;241m.\u001b[39menviron\u001b[38;5;241m.\u001b[39mget(env_var, \u001b[38;5;28;01mNone\u001b[39;00m)\n\u001b[1;32m    215\u001b[0m \u001b[38;5;28;01mif\u001b[39;00m \u001b[38;5;129;01mnot\u001b[39;00m env_val:\n\u001b[0;32m--> 216\u001b[0m     \u001b[38;5;28;01mraise\u001b[39;00m _env_error(env_var)\n\u001b[1;32m    217\u001b[0m \u001b[38;5;28;01melse\u001b[39;00m:\n\u001b[1;32m    218\u001b[0m     \u001b[38;5;28;01mreturn\u001b[39;00m env_val\n",
      "\u001b[0;31mValueError\u001b[0m: Error initializing torch.distributed using env:// rendezvous: environment variable RANK expected, but not set"
     ]
    }
   ],
   "source": [
    "# List of predicted types\n",
    "predicted_types = main('/home/parklab/models/llama2/llama-2-70b-chat', '/home/parklab/models/llama2/tokenizer.model', validation_set=validation_set)\n",
    "\n",
    "# Add the predicted types to the DataFrame\n",
    "df['predictedType'] = predicted_types"
   ]
  },
  {
   "cell_type": "code",
   "execution_count": 16,
   "id": "0851c5e9-88ac-4e3b-abfe-33a8b9f0b91f",
   "metadata": {},
   "outputs": [
    {
     "ename": "ModuleNotFoundError",
     "evalue": "No module named 'sklearn'",
     "output_type": "error",
     "traceback": [
      "\u001b[0;31m---------------------------------------------------------------------------\u001b[0m",
      "\u001b[0;31mModuleNotFoundError\u001b[0m                       Traceback (most recent call last)",
      "Cell \u001b[0;32mIn[16], line 1\u001b[0m\n\u001b[0;32m----> 1\u001b[0m \u001b[38;5;28;01mfrom\u001b[39;00m \u001b[38;5;21;01msklearn\u001b[39;00m\u001b[38;5;21;01m.\u001b[39;00m\u001b[38;5;21;01mmetrics\u001b[39;00m \u001b[38;5;28;01mimport\u001b[39;00m precision_score, recall_score, f1_score\n\u001b[1;32m      3\u001b[0m \u001b[38;5;66;03m# DataFrame contains actual and predicted types\u001b[39;00m\n\u001b[1;32m      4\u001b[0m actual_types \u001b[38;5;241m=\u001b[39m df[\u001b[38;5;124m'\u001b[39m\u001b[38;5;124mactualType\u001b[39m\u001b[38;5;124m'\u001b[39m]\n",
      "\u001b[0;31mModuleNotFoundError\u001b[0m: No module named 'sklearn'"
     ]
    }
   ],
   "source": [
    "from sklearn.metrics import precision_score, recall_score, f1_score\n",
    "\n",
    "# DataFrame contains actual and predicted types\n",
    "actual_types = df['actualType']\n",
    "predicted_types = df['predictedType']\n",
    "\n",
    "# Convert types to a list for sklearn metrics\n",
    "actual_types_list = actual_types.tolist()\n",
    "predicted_types_list = predicted_types.tolist()\n",
    "\n",
    "# Calculate precision, recall, and F1 scores\n",
    "precision = precision_score(actual_types_list, predicted_types_list, average='weighted')\n",
    "recall = recall_score(actual_types_list, predicted_types_list, average='weighted')\n",
    "f1 = f1_score(actual_types_list, predicted_types_list, average='weighted')\n",
    "\n",
    "# Print results\n",
    "print(f'Precision: {precision:.4f}')\n",
    "print(f'Recall: {recall:.4f}')\n",
    "print(f'F1 Score: {f1:.4f}')\n"
   ]
  },
  {
   "cell_type": "code",
   "execution_count": null,
   "id": "3f09cac4-f497-4526-ab12-d78ed5df91ad",
   "metadata": {},
   "outputs": [],
   "source": []
  }
 ],
 "metadata": {
  "kernelspec": {
   "display_name": "Python 3 (ipykernel)",
   "language": "python",
   "name": "python3"
  },
  "language_info": {
   "codemirror_mode": {
    "name": "ipython",
    "version": 3
   },
   "file_extension": ".py",
   "mimetype": "text/x-python",
   "name": "python",
   "nbconvert_exporter": "python",
   "pygments_lexer": "ipython3",
   "version": "3.11.0"
  }
 },
 "nbformat": 4,
 "nbformat_minor": 5
}
